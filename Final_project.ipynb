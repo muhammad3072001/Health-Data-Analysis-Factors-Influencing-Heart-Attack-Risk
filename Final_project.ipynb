{
  "nbformat": 4,
  "nbformat_minor": 0,
  "metadata": {
    "colab": {
      "provenance": []
    },
    "kernelspec": {
      "name": "python3",
      "display_name": "Python 3"
    },
    "language_info": {
      "name": "python"
    }
  },
  "cells": [
    {
      "cell_type": "code",
      "execution_count": null,
      "metadata": {
        "id": "Mr0XEek8kzS2"
      },
      "outputs": [],
      "source": [
        "import pandas as pd\n",
        "import numpy as np\n",
        "import matplotlib.pyplot as plt\n",
        "import seaborn as sns\n",
        "import warnings\n",
        "warnings.filterwarnings('ignore')\n",
        "plt.style.use('ggplot')\n",
        "from sklearn.naive_bayes import GaussianNB\n",
        "from sklearn.model_selection import GridSearchCV, train_test_split\n",
        "from sklearn.linear_model import LogisticRegression\n",
        "from sklearn.metrics import accuracy_score, classification_report, confusion_matrix, precision_score, recall_score\n",
        "from sklearn.model_selection import train_test_split\n",
        "from sklearn.preprocessing import StandardScaler, LabelEncoder, OrdinalEncoder\n",
        "from sklearn.ensemble import RandomForestClassifier\n",
        "from sklearn.svm import SVC\n",
        "from sklearn.neighbors import KNeighborsClassifier\n",
        "from sklearn.tree import DecisionTreeClassifier"
      ]
    },
    {
      "cell_type": "code",
      "source": [
        "df = pd.read_csv('/content/heart_attack_prediction_dataset.csv')\n",
        "df.head()"
      ],
      "metadata": {
        "colab": {
          "base_uri": "https://localhost:8080/",
          "height": 319
        },
        "id": "z3ZXaZxple7p",
        "outputId": "7e4d2988-8458-4320-a36c-b4e97f0f69f3"
      },
      "execution_count": null,
      "outputs": [
        {
          "output_type": "error",
          "ename": "FileNotFoundError",
          "evalue": "[Errno 2] No such file or directory: '/content/heart_attack_prediction_dataset.csv'",
          "traceback": [
            "\u001b[0;31m---------------------------------------------------------------------------\u001b[0m",
            "\u001b[0;31mFileNotFoundError\u001b[0m                         Traceback (most recent call last)",
            "\u001b[0;32m<ipython-input-2-e5ada6bfff16>\u001b[0m in \u001b[0;36m<cell line: 1>\u001b[0;34m()\u001b[0m\n\u001b[0;32m----> 1\u001b[0;31m \u001b[0mdf\u001b[0m \u001b[0;34m=\u001b[0m \u001b[0mpd\u001b[0m\u001b[0;34m.\u001b[0m\u001b[0mread_csv\u001b[0m\u001b[0;34m(\u001b[0m\u001b[0;34m'/content/heart_attack_prediction_dataset.csv'\u001b[0m\u001b[0;34m)\u001b[0m\u001b[0;34m\u001b[0m\u001b[0;34m\u001b[0m\u001b[0m\n\u001b[0m\u001b[1;32m      2\u001b[0m \u001b[0mdf\u001b[0m\u001b[0;34m.\u001b[0m\u001b[0mhead\u001b[0m\u001b[0;34m(\u001b[0m\u001b[0;34m)\u001b[0m\u001b[0;34m\u001b[0m\u001b[0;34m\u001b[0m\u001b[0m\n",
            "\u001b[0;32m/usr/local/lib/python3.10/dist-packages/pandas/io/parsers/readers.py\u001b[0m in \u001b[0;36mread_csv\u001b[0;34m(filepath_or_buffer, sep, delimiter, header, names, index_col, usecols, dtype, engine, converters, true_values, false_values, skipinitialspace, skiprows, skipfooter, nrows, na_values, keep_default_na, na_filter, verbose, skip_blank_lines, parse_dates, infer_datetime_format, keep_date_col, date_parser, date_format, dayfirst, cache_dates, iterator, chunksize, compression, thousands, decimal, lineterminator, quotechar, quoting, doublequote, escapechar, comment, encoding, encoding_errors, dialect, on_bad_lines, delim_whitespace, low_memory, memory_map, float_precision, storage_options, dtype_backend)\u001b[0m\n\u001b[1;32m    946\u001b[0m     \u001b[0mkwds\u001b[0m\u001b[0;34m.\u001b[0m\u001b[0mupdate\u001b[0m\u001b[0;34m(\u001b[0m\u001b[0mkwds_defaults\u001b[0m\u001b[0;34m)\u001b[0m\u001b[0;34m\u001b[0m\u001b[0;34m\u001b[0m\u001b[0m\n\u001b[1;32m    947\u001b[0m \u001b[0;34m\u001b[0m\u001b[0m\n\u001b[0;32m--> 948\u001b[0;31m     \u001b[0;32mreturn\u001b[0m \u001b[0m_read\u001b[0m\u001b[0;34m(\u001b[0m\u001b[0mfilepath_or_buffer\u001b[0m\u001b[0;34m,\u001b[0m \u001b[0mkwds\u001b[0m\u001b[0;34m)\u001b[0m\u001b[0;34m\u001b[0m\u001b[0;34m\u001b[0m\u001b[0m\n\u001b[0m\u001b[1;32m    949\u001b[0m \u001b[0;34m\u001b[0m\u001b[0m\n\u001b[1;32m    950\u001b[0m \u001b[0;34m\u001b[0m\u001b[0m\n",
            "\u001b[0;32m/usr/local/lib/python3.10/dist-packages/pandas/io/parsers/readers.py\u001b[0m in \u001b[0;36m_read\u001b[0;34m(filepath_or_buffer, kwds)\u001b[0m\n\u001b[1;32m    609\u001b[0m \u001b[0;34m\u001b[0m\u001b[0m\n\u001b[1;32m    610\u001b[0m     \u001b[0;31m# Create the parser.\u001b[0m\u001b[0;34m\u001b[0m\u001b[0;34m\u001b[0m\u001b[0m\n\u001b[0;32m--> 611\u001b[0;31m     \u001b[0mparser\u001b[0m \u001b[0;34m=\u001b[0m \u001b[0mTextFileReader\u001b[0m\u001b[0;34m(\u001b[0m\u001b[0mfilepath_or_buffer\u001b[0m\u001b[0;34m,\u001b[0m \u001b[0;34m**\u001b[0m\u001b[0mkwds\u001b[0m\u001b[0;34m)\u001b[0m\u001b[0;34m\u001b[0m\u001b[0;34m\u001b[0m\u001b[0m\n\u001b[0m\u001b[1;32m    612\u001b[0m \u001b[0;34m\u001b[0m\u001b[0m\n\u001b[1;32m    613\u001b[0m     \u001b[0;32mif\u001b[0m \u001b[0mchunksize\u001b[0m \u001b[0;32mor\u001b[0m \u001b[0miterator\u001b[0m\u001b[0;34m:\u001b[0m\u001b[0;34m\u001b[0m\u001b[0;34m\u001b[0m\u001b[0m\n",
            "\u001b[0;32m/usr/local/lib/python3.10/dist-packages/pandas/io/parsers/readers.py\u001b[0m in \u001b[0;36m__init__\u001b[0;34m(self, f, engine, **kwds)\u001b[0m\n\u001b[1;32m   1446\u001b[0m \u001b[0;34m\u001b[0m\u001b[0m\n\u001b[1;32m   1447\u001b[0m         \u001b[0mself\u001b[0m\u001b[0;34m.\u001b[0m\u001b[0mhandles\u001b[0m\u001b[0;34m:\u001b[0m \u001b[0mIOHandles\u001b[0m \u001b[0;34m|\u001b[0m \u001b[0;32mNone\u001b[0m \u001b[0;34m=\u001b[0m \u001b[0;32mNone\u001b[0m\u001b[0;34m\u001b[0m\u001b[0;34m\u001b[0m\u001b[0m\n\u001b[0;32m-> 1448\u001b[0;31m         \u001b[0mself\u001b[0m\u001b[0;34m.\u001b[0m\u001b[0m_engine\u001b[0m \u001b[0;34m=\u001b[0m \u001b[0mself\u001b[0m\u001b[0;34m.\u001b[0m\u001b[0m_make_engine\u001b[0m\u001b[0;34m(\u001b[0m\u001b[0mf\u001b[0m\u001b[0;34m,\u001b[0m \u001b[0mself\u001b[0m\u001b[0;34m.\u001b[0m\u001b[0mengine\u001b[0m\u001b[0;34m)\u001b[0m\u001b[0;34m\u001b[0m\u001b[0;34m\u001b[0m\u001b[0m\n\u001b[0m\u001b[1;32m   1449\u001b[0m \u001b[0;34m\u001b[0m\u001b[0m\n\u001b[1;32m   1450\u001b[0m     \u001b[0;32mdef\u001b[0m \u001b[0mclose\u001b[0m\u001b[0;34m(\u001b[0m\u001b[0mself\u001b[0m\u001b[0;34m)\u001b[0m \u001b[0;34m->\u001b[0m \u001b[0;32mNone\u001b[0m\u001b[0;34m:\u001b[0m\u001b[0;34m\u001b[0m\u001b[0;34m\u001b[0m\u001b[0m\n",
            "\u001b[0;32m/usr/local/lib/python3.10/dist-packages/pandas/io/parsers/readers.py\u001b[0m in \u001b[0;36m_make_engine\u001b[0;34m(self, f, engine)\u001b[0m\n\u001b[1;32m   1703\u001b[0m                 \u001b[0;32mif\u001b[0m \u001b[0;34m\"b\"\u001b[0m \u001b[0;32mnot\u001b[0m \u001b[0;32min\u001b[0m \u001b[0mmode\u001b[0m\u001b[0;34m:\u001b[0m\u001b[0;34m\u001b[0m\u001b[0;34m\u001b[0m\u001b[0m\n\u001b[1;32m   1704\u001b[0m                     \u001b[0mmode\u001b[0m \u001b[0;34m+=\u001b[0m \u001b[0;34m\"b\"\u001b[0m\u001b[0;34m\u001b[0m\u001b[0;34m\u001b[0m\u001b[0m\n\u001b[0;32m-> 1705\u001b[0;31m             self.handles = get_handle(\n\u001b[0m\u001b[1;32m   1706\u001b[0m                 \u001b[0mf\u001b[0m\u001b[0;34m,\u001b[0m\u001b[0;34m\u001b[0m\u001b[0;34m\u001b[0m\u001b[0m\n\u001b[1;32m   1707\u001b[0m                 \u001b[0mmode\u001b[0m\u001b[0;34m,\u001b[0m\u001b[0;34m\u001b[0m\u001b[0;34m\u001b[0m\u001b[0m\n",
            "\u001b[0;32m/usr/local/lib/python3.10/dist-packages/pandas/io/common.py\u001b[0m in \u001b[0;36mget_handle\u001b[0;34m(path_or_buf, mode, encoding, compression, memory_map, is_text, errors, storage_options)\u001b[0m\n\u001b[1;32m    861\u001b[0m         \u001b[0;32mif\u001b[0m \u001b[0mioargs\u001b[0m\u001b[0;34m.\u001b[0m\u001b[0mencoding\u001b[0m \u001b[0;32mand\u001b[0m \u001b[0;34m\"b\"\u001b[0m \u001b[0;32mnot\u001b[0m \u001b[0;32min\u001b[0m \u001b[0mioargs\u001b[0m\u001b[0;34m.\u001b[0m\u001b[0mmode\u001b[0m\u001b[0;34m:\u001b[0m\u001b[0;34m\u001b[0m\u001b[0;34m\u001b[0m\u001b[0m\n\u001b[1;32m    862\u001b[0m             \u001b[0;31m# Encoding\u001b[0m\u001b[0;34m\u001b[0m\u001b[0;34m\u001b[0m\u001b[0m\n\u001b[0;32m--> 863\u001b[0;31m             handle = open(\n\u001b[0m\u001b[1;32m    864\u001b[0m                 \u001b[0mhandle\u001b[0m\u001b[0;34m,\u001b[0m\u001b[0;34m\u001b[0m\u001b[0;34m\u001b[0m\u001b[0m\n\u001b[1;32m    865\u001b[0m                 \u001b[0mioargs\u001b[0m\u001b[0;34m.\u001b[0m\u001b[0mmode\u001b[0m\u001b[0;34m,\u001b[0m\u001b[0;34m\u001b[0m\u001b[0;34m\u001b[0m\u001b[0m\n",
            "\u001b[0;31mFileNotFoundError\u001b[0m: [Errno 2] No such file or directory: '/content/heart_attack_prediction_dataset.csv'"
          ]
        }
      ]
    },
    {
      "cell_type": "markdown",
      "source": [
        "# introduction\n",
        "    This synthetic dataset provides a comprehensive array of features relevant to heart health and lifestyle choices, encompassing patient-specific details such as age, gender, cholesterol levels, blood pressure, heart rate, and indicators like diabetes, family history, smoking habits, obesity, and alcohol consumption. Additionally, lifestyle factors like exercise hours, dietary habits, stress levels, and sedentary hours are included. Medical aspects comprising previous heart problems, medication usage, and triglyceride levels are considered. Socioeconomic aspects such as income and geographical attributes like country, continent, and hemisphere are incorporated. The dataset, consisting of 8763 records from patients around the globe, culminates in a crucial binary classification feature denoting the presence or absence of a heart attack risk, providing a comprehensive resource for predictive analysis and research in cardiovascular health.\n",
        "\n",
        "### Dataset Glossary (Column-wise- )\n",
        "    - Patient ID: Unique identifier for each patient\n",
        "    - Age: Age of the patient\n",
        "    - Sex: Gender of the patient (Male/Female)\n",
        "    - Cholesterol: Cholesterol levels of the patient\n",
        "    - Blood Pressure: Blood pressure of the patient (systolic/diastolic)\n",
        "    - Heart Rate: The heart rate of the patient\n",
        "    - Diabetes: Whether the patient has diabetes (Yes/No)\n",
        "    - Family History: Family history of heart-related problems (1: Yes, 0: No)\n",
        "    - Smoking: Smoking status of the patient (1: Smoker, 0: Nonsmoker)\n",
        "    - Obesity: Obesity status of the patient (1: Obese, 0: Not obese)\n",
        "    - Alcohol Consumption: Level of alcohol consumption by the patient (None/Light/Moderate/Heavy)\n",
        "    - Exercise Hours Per Week: Number of exercise hours per week\n",
        "    - Diet: Dietary habits of the patient (Healthy/Average/Unhealthy)\n",
        "    - Previous Heart Problems: Previous heart problems of the patient (1:Yes, 0:No)\n",
        "    - Medication Use: Medication usage by the patient (1: Yes, 0: No)\n",
        "    - Stress Level: Stress level reported by the patient (1-10)\n",
        "    - Sedentary Hours Per Day: Hours of sedentary activity per day\n",
        "    - Income: The income level of the patient\n",
        "    - BMI: Body Mass Index (BMI) of the patient\n",
        "    - Triglycerides: Triglyceride levels of the patient\n",
        "    - Physical Activity Days Per Week: Days of physical activity per week\n",
        "    - Sleep Hours Per Day: Hours of sleep per day\n",
        "    - Country: Country of the patient\n",
        "    - Continent: Continent where the patient resides\n",
        "    - Hemisphere: Hemisphere where the patient resides\n",
        "    - Heart Attack Risk: Presence of heart attack risk (1: Yes, 0: No)"
      ],
      "metadata": {
        "id": "iZ1_SIy3lFw2"
      }
    },
    {
      "cell_type": "code",
      "source": [
        "df.info()"
      ],
      "metadata": {
        "id": "oc0juYSal4wX"
      },
      "execution_count": null,
      "outputs": []
    },
    {
      "cell_type": "code",
      "source": [
        "def data_info(data):\n",
        "  cols=data.columns\n",
        "  unique_val=[data[col].value_counts().head(10).index.to_numpy() for col in cols]\n",
        "  n_uniques=[data[col].nunique() for col in cols]\n",
        "  dtypes=[data[col].dtype for col in cols]\n",
        "  nulls=[data[col].isnull().sum() for col in cols]\n",
        "  dup=[data .duplicated().sum() for col in cols]\n",
        "  return pd.DataFrame({\"Col\": cols, \"Dtypes\":dtypes, \"N Uniques\":n_uniques, \"Null\":nulls, \"Uniques\":unique_val, \"duplicated\":dup})\n",
        "\n",
        "\n",
        "df_info = data_info(df)\n",
        "df_info"
      ],
      "metadata": {
        "id": "x3j1_aNVmD24"
      },
      "execution_count": null,
      "outputs": []
    },
    {
      "cell_type": "code",
      "source": [
        "df.columns"
      ],
      "metadata": {
        "id": "XUaU0MdzmvoD"
      },
      "execution_count": null,
      "outputs": []
    },
    {
      "cell_type": "code",
      "source": [
        "# dropping the id feature because it's 100% unique\n",
        "df.drop('Patient ID', axis=1, inplace=True)"
      ],
      "metadata": {
        "id": "DWwz2uujmFM4"
      },
      "execution_count": null,
      "outputs": []
    },
    {
      "cell_type": "markdown",
      "source": [
        "### Exploratory Data Analysis"
      ],
      "metadata": {
        "id": "ZFFM63rfqNJz"
      }
    },
    {
      "cell_type": "code",
      "source": [
        "ctg_df = df[['Sex','Diet','Continent','Country','Hemisphere']]\n",
        "plt.figure(figsize=(8, 7))\n",
        "for i in ctg_df.columns:\n",
        "    ctg_num = ctg_df[i].value_counts()\n",
        "    chart = sns.barplot(x = ctg_num.index, y = ctg_num, palette='viridis')\n",
        "    plt.title(i)\n",
        "    plt.xlabel(i)\n",
        "    plt.ylabel('Count')\n",
        "    chart.set_xticklabels(chart.get_xticklabels(), rotation=90, )\n",
        "    plt.show()"
      ],
      "metadata": {
        "id": "YQDDoR2imWUd"
      },
      "execution_count": null,
      "outputs": []
    },
    {
      "cell_type": "markdown",
      "source": [
        "### Correlation between Variables using HeatMap"
      ],
      "metadata": {
        "id": "VnNNKWrSp1kI"
      }
    },
    {
      "cell_type": "code",
      "source": [
        "plt.figure(figsize = (19,10))\n",
        "sns.heatmap(df[['Age','Heart Rate', 'Diabetes', 'Family History', 'Smoking', 'Obesity',\n",
        "      'Cholesterol','Alcohol Consumption', 'Exercise Hours Per Week',\n",
        "     'Previous Heart Problems', 'Medication Use', 'Stress Level',\n",
        "       'Sedentary Hours Per Day', 'Income', 'BMI', 'Triglycerides',\n",
        "       'Physical Activity Days Per Week', 'Sleep Hours Per Day','Heart Attack Risk']].corr(), cmap=\"YlGnBu\",\n",
        "            annot=True)"
      ],
      "metadata": {
        "id": "MEbaJFi7oCZJ"
      },
      "execution_count": null,
      "outputs": []
    },
    {
      "cell_type": "markdown",
      "source": [
        "#### Key Findings\n",
        "\n",
        "  - Heart Attack risk has highest correlation with Diabetes, Cholestrol and Exercise Hours Per Weak\n",
        "  - Heart attack Risk is not much dependent on Sedentary Hours Per Day\n",
        "  - Alcohol Consumption has no stronger link with Heart Attack Risk\n",
        "  - Smoking is not a major cause of Heart Attack"
      ],
      "metadata": {
        "id": "bmK4wLRasNr9"
      }
    },
    {
      "cell_type": "code",
      "source": [
        "#Continents w.r.t Cholestrol Level range\n",
        "plt.figure(figsize= (9,4))\n",
        "sns.set_theme(style=\"ticks\", palette=\"pastel\")\n",
        "sns.boxplot(x=\"Continent\", y='Cholesterol', hue=\"Sex\",\n",
        "             palette=[\"m\", \"g\"], data=df)\n",
        "plt.show()\n"
      ],
      "metadata": {
        "id": "_dOdkMvlqDGt"
      },
      "execution_count": null,
      "outputs": []
    },
    {
      "cell_type": "code",
      "source": [
        "#Continents w.r.t Exercise Hours Per Week range\n",
        "plt.figure(figsize= (9,4))\n",
        "sns.set_theme(style=\"ticks\", palette=\"pastel\")\n",
        "sns.boxplot(x=\"Continent\", y='Exercise Hours Per Week',  hue=\"Sex\",\n",
        "             palette=[\"b\", \"r\"], data=df)"
      ],
      "metadata": {
        "id": "vO7qzwYEsm2O"
      },
      "execution_count": null,
      "outputs": []
    },
    {
      "cell_type": "markdown",
      "source": [
        "#check outliers"
      ],
      "metadata": {
        "id": "-fphTq6g429C"
      }
    },
    {
      "cell_type": "code",
      "source": [
        "continuous_Features=[\"Age\", \"Cholesterol\", \"Heart Rate\", \"Exercise Hours Per Week\",\n",
        "                     \"Sedentary Hours Per Day\", \"Income\", \"BMI\", \"Triglycerides\"]\n",
        "\n",
        "plt.figure(figsize=(15,15))\n",
        "for column in range(len(continuous_Features)):\n",
        "  plt.subplot(2,4,column+1)\n",
        "  sns.boxenplot(df[continuous_Features[column]])\n",
        "  plt.title(f\"Box plot for {continuous_Features[column]}\")\n",
        "plt.show()"
      ],
      "metadata": {
        "id": "k9TbXBVr42X8"
      },
      "execution_count": null,
      "outputs": []
    },
    {
      "cell_type": "markdown",
      "source": [
        "#Remove outliers"
      ],
      "metadata": {
        "id": "G_HfPhg0-rKG"
      }
    },
    {
      "cell_type": "code",
      "source": [
        "for col in continuous_Features:\n",
        "  Q1=df[col].quantile(0.25)\n",
        "  Q3=df[col].quantile(0.75)\n",
        "  IQR=Q3-Q1\n",
        "  lower_bound=Q1-1.5*IQR\n",
        "  upper_bound=Q3+1.5*IQR\n",
        "  lower_outliers=df[df[col]<lower_bound][col].values\n",
        "  upper_outliers=df[df[col]>upper_bound][col].values\n",
        "  df[col].replace(lower_outliers,lower_bound,inplace=True)\n",
        "  df[col].replace(upper_outliers,upper_bound,inplace=True)"
      ],
      "metadata": {
        "id": "Q2XpQps5-FQj"
      },
      "execution_count": null,
      "outputs": []
    },
    {
      "cell_type": "markdown",
      "source": [
        "## FEATURE ENGINEERING"
      ],
      "metadata": {
        "id": "njvRCKHjtIIk"
      }
    },
    {
      "cell_type": "markdown",
      "source": [
        "- Setting column 'Blood Pressure'\n",
        "Splitting Between Diastolic and Systolic Blood Pressure"
      ],
      "metadata": {
        "id": "xEi3N67EtWL8"
      }
    },
    {
      "cell_type": "code",
      "source": [
        "df['BP_Systolic'] = df['Blood Pressure'].apply(lambda x: x.split('/')[0])\n",
        "df['BP_Diastolic'] = df['Blood Pressure'].apply(lambda x: x.split('/')[1])"
      ],
      "metadata": {
        "id": "pUr36YKzs-Ak"
      },
      "execution_count": null,
      "outputs": []
    },
    {
      "cell_type": "markdown",
      "source": [
        "- Ordinal Encoding for diet: 1:healthy, 2:average, 3:unhealthy"
      ],
      "metadata": {
        "id": "_xEc4KUEtsQ2"
      }
    },
    {
      "cell_type": "code",
      "source": [
        "oe_encoder = OrdinalEncoder(categories=[[\"Unhealthy\", \"Average\", \"Healthy\"]])\n",
        "df['Diet'] = oe_encoder.fit_transform(df[['Diet']])"
      ],
      "metadata": {
        "id": "xVgsm3FntdEB"
      },
      "execution_count": null,
      "outputs": []
    },
    {
      "cell_type": "markdown",
      "source": [
        "- Lable encoding for 'Sex(Gender)"
      ],
      "metadata": {
        "id": "Zf9CfQTmyCq1"
      }
    },
    {
      "cell_type": "code",
      "source": [
        "la = LabelEncoder()\n",
        "df['Sex'] = la.fit_transform(df['Sex'])"
      ],
      "metadata": {
        "id": "D4vmoJDAuCqx"
      },
      "execution_count": null,
      "outputs": []
    },
    {
      "cell_type": "code",
      "source": [
        "df.dtypes"
      ],
      "metadata": {
        "id": "8Sy6LQazyJ6D"
      },
      "execution_count": null,
      "outputs": []
    },
    {
      "cell_type": "markdown",
      "source": [
        "- converting 'Object' Datatype into int"
      ],
      "metadata": {
        "id": "ZwjeUgws0MLN"
      }
    },
    {
      "cell_type": "code",
      "source": [
        "cat_columns = ['BP_Systolic','BP_Diastolic']\n",
        "df[cat_columns] = df[cat_columns].astype(int)"
      ],
      "metadata": {
        "id": "9WXOLpaSzwgn"
      },
      "execution_count": null,
      "outputs": []
    },
    {
      "cell_type": "code",
      "source": [
        "df.dtypes"
      ],
      "metadata": {
        "id": "oFuo0LXq0hcy"
      },
      "execution_count": null,
      "outputs": []
    },
    {
      "cell_type": "code",
      "source": [
        "df.drop(['Blood Pressure', 'Hemisphere', 'Continent', 'Country'], axis=1, inplace=True)\n",
        "df.head()"
      ],
      "metadata": {
        "id": "aVHubRyf-7kM"
      },
      "execution_count": null,
      "outputs": []
    },
    {
      "cell_type": "code",
      "source": [
        "df.duplicated().sum()"
      ],
      "metadata": {
        "id": "rWlSWn73AJQs"
      },
      "execution_count": null,
      "outputs": []
    },
    {
      "cell_type": "code",
      "source": [
        "x = df.drop('Heart Attack Risk', axis=1)\n",
        "y = df['Heart Attack Risk']"
      ],
      "metadata": {
        "id": "ven5MPMr0kWN"
      },
      "execution_count": null,
      "outputs": []
    },
    {
      "cell_type": "code",
      "source": [
        "x.head()"
      ],
      "metadata": {
        "id": "h8CQh9qp1lVG"
      },
      "execution_count": null,
      "outputs": []
    },
    {
      "cell_type": "markdown",
      "source": [
        "# spliting data"
      ],
      "metadata": {
        "id": "Q-rF8CmE2L1s"
      }
    },
    {
      "cell_type": "code",
      "source": [
        "x_train, x_test, y_train, y_test = train_test_split(x, y, test_size=0.2, random_state=42)"
      ],
      "metadata": {
        "id": "L0pypSNT1m26"
      },
      "execution_count": null,
      "outputs": []
    },
    {
      "cell_type": "markdown",
      "source": [
        "#scaling"
      ],
      "metadata": {
        "id": "afnQ6QBM2rwr"
      }
    },
    {
      "cell_type": "code",
      "source": [
        "sc = StandardScaler()\n",
        "x_train = sc.fit_transform(x_train)\n",
        "x_test = sc.transform(x_test)"
      ],
      "metadata": {
        "id": "QDCilOCa2uMB"
      },
      "execution_count": null,
      "outputs": []
    },
    {
      "cell_type": "code",
      "source": [
        "model1 = GaussianNB()\n",
        "model1.fit(x_train, y_train)"
      ],
      "metadata": {
        "id": "L_YSi8vn2ys0"
      },
      "execution_count": null,
      "outputs": []
    },
    {
      "cell_type": "code",
      "source": [
        "y_pred=model1.predict(x_test)\n",
        "accuracy_score(y_test,y_pred)"
      ],
      "metadata": {
        "id": "6c4Os5Qc_9R8"
      },
      "execution_count": null,
      "outputs": []
    },
    {
      "cell_type": "code",
      "source": [
        "model2 = DecisionTreeClassifier()\n",
        "model2.fit(x_train, y_train)"
      ],
      "metadata": {
        "id": "7b6e4qEjCnUL"
      },
      "execution_count": null,
      "outputs": []
    },
    {
      "cell_type": "code",
      "source": [
        "y_pred=model2.predict(x_test)\n",
        "accuracy_score(y_test,y_pred)"
      ],
      "metadata": {
        "id": "AaUO7dCdCySw"
      },
      "execution_count": null,
      "outputs": []
    },
    {
      "cell_type": "code",
      "source": [
        "model3 = RandomForestClassifier()\n",
        "model3.fit(x_train, y_train)"
      ],
      "metadata": {
        "id": "MBm8DGE2C2C7"
      },
      "execution_count": null,
      "outputs": []
    },
    {
      "cell_type": "code",
      "source": [
        "y_pred=model3.predict(x_test)\n",
        "accuracy_score(y_test,y_pred)"
      ],
      "metadata": {
        "id": "rnMstBqCC7vr"
      },
      "execution_count": null,
      "outputs": []
    },
    {
      "cell_type": "code",
      "source": [
        "model4 = KNeighborsClassifier()\n",
        "model4.fit(x_train, y_train)"
      ],
      "metadata": {
        "id": "lgXHV395DJOE"
      },
      "execution_count": null,
      "outputs": []
    },
    {
      "cell_type": "code",
      "source": [
        "y_pred=model4.predict(x_test)\n",
        "accuracy_score(y_test,y_pred)"
      ],
      "metadata": {
        "id": "EZ-f1UwsDXGA"
      },
      "execution_count": null,
      "outputs": []
    },
    {
      "cell_type": "markdown",
      "source": [
        "- Tuning parameter"
      ],
      "metadata": {
        "id": "U5QQ2naAD3Eu"
      }
    },
    {
      "cell_type": "code",
      "source": [
        "Knn=KNeighborsClassifier()\n",
        "param_grid={\n",
        "    \"n_neighbors\":[100,1000],\n",
        "    \"p\":[1,2]\n",
        "}\n",
        "grid_search=GridSearchCV(Knn,param_grid,cv=5)\n",
        "grid_search.fit(x_train,y_train)"
      ],
      "metadata": {
        "id": "krk7CrHWDbln"
      },
      "execution_count": null,
      "outputs": []
    },
    {
      "cell_type": "code",
      "source": [
        "grid_search.best_estimator_"
      ],
      "metadata": {
        "id": "fQPacsS0EFMZ"
      },
      "execution_count": null,
      "outputs": []
    },
    {
      "cell_type": "code",
      "source": [
        "best_knn=grid_search.best_estimator_\n",
        "y_pred=best_knn.predict(x_test)\n",
        "accuracy_score(y_test,y_pred)"
      ],
      "metadata": {
        "id": "C-h8rE_OEXoa"
      },
      "execution_count": null,
      "outputs": []
    },
    {
      "cell_type": "code",
      "source": [],
      "metadata": {
        "id": "pO-gMbiNEhj5"
      },
      "execution_count": null,
      "outputs": []
    }
  ]
}